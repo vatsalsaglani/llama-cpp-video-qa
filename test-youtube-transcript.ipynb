{
 "cells": [
  {
   "cell_type": "code",
   "execution_count": 1,
   "metadata": {},
   "outputs": [],
   "source": [
    "import os\n",
    "from youtube_transcript_api import YouTubeTranscriptApi"
   ]
  },
  {
   "cell_type": "code",
   "execution_count": 3,
   "metadata": {},
   "outputs": [],
   "source": [
    "transcript = YouTubeTranscriptApi.get_transcript(\"e1Yhs9BEOSw\")"
   ]
  },
  {
   "cell_type": "code",
   "execution_count": 7,
   "metadata": {},
   "outputs": [],
   "source": [
    "transcript_text = \" \".join(list(map(lambda txt: txt.get(\"text\"), transcript)))"
   ]
  },
  {
   "cell_type": "code",
   "execution_count": 8,
   "metadata": {},
   "outputs": [
    {
     "data": {
      "text/plain": [
       "\"it feels like there's more energy around this batch than there has been for as long as I can remember for any YC batch like what do you think's happening there's a platform shift and this is the moment where every single SAS Dollar in the world uh it's up for grabs Again The Bouch 3x ARR in 3 months which is pretty cool that's a great growth rate yeah it's a fun time to build it's the best time ever I mean as a as a builder it's like the technology just does such a different thing than what you expected before [Music] welcome back to another episode of the light cone we are for group Partners at Y combinator and we funded hundreds of companies many dozens of which have gone on to become unicorns this is Jared I'm Gary this is Harge and this is Diana we just finished the winter 2024 batch of Y combinator and it feels really really different doesn't it it does let's talk about how this batch is so different from the batches that we funded in the past some of it is you actually need to know where we've been and where we are right now in order to actually figure out where we're going to go and a lot of people watching right now are trying to figure it out like how do I go to where the hockey puck is going how do I get there before everyone else the best way to figure that out is what happened in this batch we're going to connect the dots with actual numbers that I don't think we ever shared before by stats of batches from four years ago and contrast them with the numbers for this patch so you can see the actual Trends the way they're playing out here in the center of silon Valley yeah I'm curious like what are some of the trends that we've seen what's made this last winter 24 batch different to previous batches well the strongest Trend the one that everyone is writing about is AI that's definitely like the big Mega Trend in the past year yeah I was surprised when we were pulling up some of the numbers it's just under 70% of the ideas of AI 70% of the batch that's wild yeah it's about 170 companies yep versus winter 20 we only had 8% of the companies maybe one of the notables from winter2 that you work with Jared was uh replicate yeah those replicate Founders they were into AI before it was cool which was really awesome because they got to then ride this wave but the first three years of replic was slow going cuz there weren't a lot of people working on AI they were building tools for people working on AI there weren many customers and we didn't call it AI as much back then we called it machine Lear machine learning totally I let me say one thing I've noticed that's different about this batch is uh consumer ideas they are certainly coming back like I've gone from working it feels like for many years with working with zero consumer startups now just even in the group of companies I'm working with several of them I've noticed founders who are pivoting during the batch are pivoting into consumer ideas whereas previously I think they would have pivoted into like a Enterprise B2B SAS idea and I'm not sure what to think about that actually do you think it's bad or good I'm not sure okay here's Harge and I have opposing viewpoints on this question okay I'll make the case for why it may be bad like I think you could argue that pivoting into consumer ideas is sort of lazy because so many of the canonical tarpit ideas are these bad consumer ideas where it's like travel planning travel planning or splitting the bill at a restaurant or finding a roommate or all these kinds of things right and people gravitate to them because it's so easy you're like I just want to build it's the advice of build something you want which is great advice but it means that you can often build these like very easy ideas and it's really hard to get lots of users for them whereas when it felt like people didn't want to work on consumer ideas oh okay I I actually have to go out and become like an expert on something like I have to go out and figure out how expense management works and see if there's any interesting ideas there it led to lots of really really good startups being funded so I I partly worry that people will pivot into tarpet consumer ideas because it's easy my perspective is I find it so refreshing that consumer is back because when YC got started when we all did it in the 2005 to 2012 era there were tons of consumer companies in fact the first YC batch was like 80% plus consumer companies what happened is all the consumer ideas basically got done and there were no good consumer ideas left or very few and so we went through this whole super cycle where the only non- tarpet ideas were B2B ideas and the problem with B2B ideas is they're a little boring let's be honest like B2B SAS is like a little boring if you think about what like Drew in like young tacnical Founders like like the original Founders in the early YC batches they were building consumer apps as they were fun both uh you and Gary when you went through the batch had consumer companies right yeah yeah we we both started consumer companies because th those weren't tpet ideas at the time the problem was like in 2020 starting a a us-based consumer idea was Ill advised if you were doing it you were probably working on a bad idea well the other fact to here was just Facebook sucking all the oxygen out of the room right like it felt to me like that era you guys are talking about so 2007 through to 2010 maybe there was just lots of optimism around building consumer ideas that sounds familiar yeah right but then it felt like for a period it just felt like hey anything you build Facebook is going to like clone or crush and it just seemed not exciting to get crushed by Facebook you could argue that a foundational model might come along and Crush that but you if you're working on a consumer idea but I'm just kind of skeptical that that's true there's a lot of white space in there to actually build real Revenue what would do you advice say if if a Founder came to you Gary and said hey like uh somebody told me that I shouldn't work on consumer ideas because Facebook's just going to crush anything I do well open AI well open AI now open open open AI is the Facebook of yeah gbt 5 is coming out soon so what should we tell Founders they come out to you like okay should I really work on this I guess it's early enough that it hasn't happened yet I mean when I see Facebook actually come after replica in the AI boyfriend girlfriend space then I'll sort of believe it but some of it is the capability expands the ability of computers to sort of operate with human beings in such a broad way that they couldn't possibly be in all the places another big Trend that we've seen is more developer tools and Diana you worked with a lot of those do you want to talk about why what's happening with developer tools yeah in this batch we funded about 30% more de tools tools than four years ago this is like one of the largest Dev tool batches we' had in the recent years and I think couple reasons is I think there's uh attracting a lot of the super technical Founders that want to build this future with AI and before you build it you need better tools right it's kind of like this uh technology Trend where you have like two phases I think it comes from this uh is from this book from Industrial Revolution is from these economists I think it predicts a lot how technology Cycles happen the first cycle is sort of where you're laying like the rail roads infrastructure all the tooling before the installation and prolif prolification of apps there's a lot of this kind of like tooling because even right now for building a AI app there's so much Plumbing you need to do and customize it and right now there's certain patterns that are emerging like Rag and doing a lot of query and indexing and getting results to be more accurate and fine-tuning those are not well-known patterns and everyone is building the same stuff to build the actual end application so we have a lot of Founders that are like really good tool builders that are excited to kind of build the hammer like it would be really cool to see at some point all the way from distributor systems to like evaluations to even as hardcore as probably at some point custom silicon like we could probably at some point see the next Nvidia being funded and gone through YC one thing that's really interesting is I remember in 2010 when I first started working at YC Dev tools were not seen as a good idea to work on because people didn't think they would ever make money it was only when Docker um started taking off then mongod DB started taking off there was sort of this era where it's was like oh like Dev tools are things you can actually work on well and for open source companies in in particular because it was very unclear at that time that open source projects could actually be successful companies like red hat was like the only example at that time Y and so I think this is a great like Dev tools is just a great example of the build something you want for yourself and if you're an engineer you can just be very self-indulgent and build like the tools that you want and there's actually a business there well in that respect Dev tools is basically B2B SAS but uh consumer style so you only have 20 million people who you have to actually Market to and you actually have to Market to them in the same way you would to for a consumer product but instead of a billion consumers you're talking about 20 million developers and the cool thing is uh most of those 20 million at some point are on Hacker News which is a YC website it's like the New York Times for hackers that's right there's a lot of parallels because uh consumer ideas are not judged on how much money they make typically consumer social in particular right like it's all just like growth and daily active users and monthly active users and what I've noticed about open source same yeah Diana how do how do investors judge whether open source startup in the batch is doing well or not some of the early signs is whether this is getting adopted by The Taste makers and that happens to be in a GitHub project you have a lot of uh GitHub star growth and also if you have actual like hardcore developers that are good using you and early signs of getting in production with companies at this point like consumer early in the early days for infrastructure and death tools you don't really make money because things like installing a new database is such a big bet for a company that you need to make sure that it's battle tested so a lot of Open Source companies take a little bit longer to monetize kind of like consumer where it's all about user growth right and the second thing I would say um is ultimately open source companies win when they really have the developer mind share it's sort of like Facebook one with the network effects with capturing a lot of the users like I don't know it's like a third or half of the world uses Facebook same thing for de tools is like if anyone thinks of let's say building like a full stack application and easy deployment they could think of a superas I think they've done a really good job and I think you work with them Jared what was it at the beginning when they were doing the batch and what does it look like now well the cool thing about superbase is literally what got superbase off the ground is Hacker News they had built this open source project that was an open source competitor um to what's it called Google the Firebase Firebase fireb Firebase yeah which is a YC company that got acquired by Google and then became a really big like product in inside of Google and they were building an open source Challenger to Firebase and they built it and like how do you get users for something like that well the thing you do is you launch it on Hacker News and so this they had this blowout Hacker News launch and to your point Diana it was was clear if you literally just read the comments on The Hacker News Post it's clear that really good developers are like this is exactly the thing that I wanted thank you for building it and that was what like launched them into the stratosphere and there's a recent stat about the percentage of the batch that's using them we'll have to pull the number but it's like a third of the batch is using 73 companies super Bas on the current batch out of the 243 are using super base batch yeah that's crazy wild which is really going up against the big infrastructure clouds with AWS gcp right yeah investors really pay attention to like the hack and use launches of these Dev tool companies CU that again super base had a phenomenal round that they raised around demo day and it was really all directly attributed to the hack post yes this is a free Alpha leak for all of you out there that you could basically take almost any close Source dominant Dev tool or platform and create an open- Source version of it and uh you might just kill the Clos source version of it and this is a shot again you know a shot across the bow of every dominant sort of Dev tool or SAS platform and by the numbers in Winter 20 we only had five companies that were open source Dev Tools in this current batch we have 22 so that is like a 5x plus increase 22 open source companies that's like that's a big shift and we've seen this over and over again I mean there's sort of like the slack and then mattermost there's sort of the uh GitHub and then git lab which was a YC company um you know in sort of analytics we havee and poog exactly so the other cool thing about this batch at Coler of getting a lot of uh Founders getting excited to work on AI and de tools this is the most technical batch ever right it's like 99% of the companies have a technical founder in the current batch versus just 88% during the pandemic let's talk about why that is I mean we talked about some of the driving factors from ideas but I think there's a couple more things at play I think one thing that feels very different now versus if we go back to pandemic covid era is I think there was this whole the software eats the world idea which originated with a mark andreon blog post I can't remember like maybe 2012 something around that um or a decade ago great essay yeah great essay right but I think what it boosted was this idea of hey not every business is going to be a core software company it'll be like software reads the world it'll be software that sort of enables non-software businesses to become software what do you mean by that is like kind of more businesses that are operations heavy sort of like give examp examples like flexport I think would be a great one right like flexport was hey there's this giant trade and Freight brokerage business moving things around the world and so much of that is done manually with humans filling out forms and flex was hey like well that could be why don't we just have like a software team that build software to help the people who are managing like the freight and the brokerages do this more efficiently it's Tech enabled Tech enabled and I think like a consequence of that is that the and especially with s of the Zer era where I just felt like there was lots of money available to fund ideas that the profile of Founders became a little bit more tilted towards like can you do you have domain expertise in a non-software business like are you like someone who's in the shipping industry who now wants to start like a tech company some spectacular examples be like we work right like probably the poster child of like Tech enabled but I just think the the profile of founder shift a little bit away from like geeky engineer Adam was not technical yeah right right exactly right he does not look like at all and actually to that point this whole trend is like somewhat controversial about these Tech enabled businesses and there are some that seem to be on the right side of the line where they actually were Tech enabled like flexport which is working and there are some that were on the other side of the line where they claim to be Tech enabled but really weren't like we work and those ones didn't go so well but I think AI is a force in the complete opposite direction right where it feels like if you want to work on a good AI idea you need to be at The Cutting Edge of actual AI technology and tooling which a table steak Yeah right because all this stuff is cutting Cutting Edge which I think it gives a bit of um Edge to a lot of Founders that don't have baggage because everything is so new all of the latest progress in AI is just like one couple years old and this is one of the batches that also has shifted the median average age of the founders is also bit younger here's another version of the story that I've heard told which is that in the like 2020 era there hadn't been a technology platform shift in a long time ventor Capital funds had billions of dollars to deploy they had to deploy it someplace the best place to deploy it was these Tech enabled businesses that were going after Industries and companies that didn't really look like the traditional Tech business that Venture Capital was set up to fund but there weren't a lot of great new tech opportunities because there wasn't a new platform shift now there is and so it's a much higher Roi use of those Venture Capital dollars to fund stuff like RI companies and stuff like we work yeah I think uh one of the interesting subtleties is um in my head it's a little bit less about whether it's Tech enabled or not um that is certainly one frame and a lot of VCS actually really stick to that I mean there's some uh really famous firms that famously only want to fund pure software businesses that are uh monthly or annual recurring revenue and that's a whole strategy they're a bunch of those firms that we've all heard of that are our friends like that's all they do and then you know there are just as many who uh actually look at it and say oh actually I'm willing to do Tech enabled but there are a lot fewer of those people and then I think the real subtlety I'm sort of a little bit more in the ladder Camp because what it really what really matters is actually the um gross margin so if you look at a paler for instance you can have a 90% gross margin or 80% gross margin type of tech enabled you know quote unquote almost Consulting business but if your gross margins are extremely high then people are actually you know willing to give you good multiples and you're actually able to raise money at a a reasonable valuation I think what's funny is when we give the t-shirts at y combinator like when when you come to YC you get a t-shirt that says um something people want yeah there you go there go because it's the end of the batch what's funny is uh notice none of this mentions anything about whether you're Tech enabled or not whether you're a software business or not or even gross margin it's just purely a function of if you make something people actually want uh people are going to pay for it and then the rest is just sort of details I mean you can actually look at the today the biggest YC companies by let say they've gone public um Airbnb door Dash it's not clear that like on the surface at least like the technology is what sets those apart so much as it was for Airbnb like you know it's a website but the core thing is building like a a network and a reputation system most powerful Network effects ever yeah right door Das and instacart are these are arguably more logistics companies than like true tech companies they're the best example actually have maybe this the the tech enabled label is a tricky one because those are actually probably technology companies but you could one lens you could put on them and say they're Tech enabled but they're also two of like the biggest companies we've ever funded but they come from a different era when a lot of the rest of the world was still coming up online right that's what it feels like to me if we like just how we're talking about Trends it just seems to me to your point Jared that it was there was a period around 2006 2007 it was just pure software businesses then was like Hey software is going to be bigger than just pure software and we got kind of door Dash and instacart and these interesting businesses and then it like really maybe it pushed too far where there was like we work yeah we work where it's like hey this is there's no software there's no software here at all really right um and that's what it feels like has been a big reset which AI has sort of it's almost like AI has taken us back to that start where it's like okay actually we just want to fun things that like what's interesting is like the technology well it's because there's good software opportunities again like we we ran out of them that's why the Venture Capital dollars like shifted to the wework stuff yep and now they're back it's a platform reset platform we're so back guys so what have we funded less of this badge what have we seen move in the opposite direction well we funded a lot less stuff going after local markets so in the 2015 to 2020 era YC and just like the world in general funded a ton of companies that were ba basically the second wave of all these online to offline things so the first wave was like door Dash and instacart in the US and then the second wave was like well well what about door Dash if you're in Brazil work they want their food delivered too what about instacart if you're in India and so there's a whole wave of taking these models and copying them in international market fintech too right there was like we saw coinbase Robin Hood um Neo Banks Neo banks monzo in the UK and there was two waves of that as well there was a first wave primarily in the US like bra for example but a lot of fintech businesses are actually local because regulations are so different in each country and so then there's a second wave of like the international copies of all the us-based things yep definitely during that period like the 2020 to 2022 period we were funding a lot of international teams that were at like Robin Hood for latam or like a local crypto exchange or yeah like door dash for X Market lots of these kinds of things yeah and a lot of those were really good YC funded some amazing epic companies they like monzo which banks some ridiculous percentage of the people in the UK grow in India which is Robin Hood for India is doing phenomenally well zepto which is the fastest growing YC company of all time which does 10-minute grocery delivery in India I I think that's a really interesting one actually because it's like it's very easy to say zepto is like instacart for India but it's not quite right cuz their actual model is different it is yeah by the Numbers specifically around the 2020 era winter 20 batch only about 45 45% of the batch was International and now is only 20 yeah this is the most us Centric batch we've had in a long time most of the teams when they applied are in the Bay Area like so about 29% um which interestingly so TBA also means like San Francisco is definitely back so we looked at the numbers and preco around 29% or so of the companies were in the Bay Area when they applied to YC and it was half of that during pandemic y right went down to like 14% something like that and now we're back up to where we were before so you know even higher actually yeah even higher than we were pre pre-co I think because there so much about uh cerebral Valley all the AI progress Happening Here I think the fundamental reason it's not to be clear that we woke up one morning and we were like like we got to fund more us Founders that was not what happened what what actually happened I think is basically the best Founders chase the best opportunities and YC funds the best Founders and so like what are the best opportunities well in 2020 there were amazing opportunities to take models working in the US and launch them in other countries and so amazing Founders like audit from zpto that's what they worked on and now the best ideas are like that trend has sort of run its course now and like most of those opportunities have been done and so the best Founders have to had to move on to other opportunities I'll give you a stats for that specifically like winter 24 we have four times less Marketplace ideas than 20120 if we're seeing more consumer and Dev tool ideas it also makes sense because those aren't local at all they're exact opposite of your point like actually if you want to build the best AI Dev tool yeah there's no such thing as an AI Dev tool for Brazil it's just like use the same ones yeah right another thing that we're finding a lot less of now is crypto and here's something that the audience might not know about the two of you which is that Gary and Harge are two of the most successful crypto investors of all time like literally like you two were the First Investors in coinbase and you made literally billions of dollars investing in crypto billions of dollars right uh I some of it is going back to being around y combinator reading Hacker News and finding out about this thing called Bitcoin reading the Satoshi Nakamoto white paper and just saying like well what is this you know Mount goau like magic the Gathering online exchange website in Japan having to you know do some weird wire to you know some sketchy country on Western Union in order to get money into this weird website that would sell Bitcoin and having that experience be so bad like I remember doing that and thinking well this is a very interesting idea and then uh again if very smart technical people on Hacker News are doing this and believe this might happen well this might just be a thing so as two of the top crypto investors what happened why were there no crypto companies in Winter 24 I mean I was looking for them so I think what's really interesting about this zooming out is if you talk about when coinbase applied to YC and we funded them um there was it was a very Counter Culture idea like you had to be like Gary like really into this stuff um there was no hype around crypto it was not seen as a very fundable thing and then what happened is crypto will go on these bull runs and when there's like a which is basically really the price of Bitcoin so when the price of Bitcoin tends to go on these sort of like eoric like pumps and anytime that happens it brings lots of people into crypto and I think at YC what we would see is like it would bring in lots of people applying with crypto ideas right and then that's clearly what was happening during sort of the co era is crypto had this huge run coinbase went public we sort of surge in crypto applications so we just funded a lot more crypto companies what I think is really interesting about this current moment is we're going through we're in the middle of another crypto Bull Run Like Bitcoin just hit another all-time high recently but we have not seen a surge in crypto applications fascinating yeah right and it's like it's clearly because all of those minds want to work on something else and we know what the something else is it's like it's AI like I think AI has is just dominating the Mind share of Engineers whereas previously Bitcoin hearing a new alltime high word Dan don't you have a story about when you went to MIT um last year that you could still see some of the remnants of that like crypto mind share at the college level yeah so MIT has some of the smartest kids in engineering and what was really interesting to me there were a bunch of kids that dropped out and UND dropped out and and they dropped out to start crypto companies they they dropped out to start crypto companies they raised like millions of dollars and they thought they were like on top of the universe like High Flyers and then what happened then around that time things crashed right and things stopped working so they were at top of the mountain they were like Hot Shots we dropped out of MIT we we just ra $5 million we're going to be the next Mark Zuckerberg for uh crypto and then I talked to them and they were back in school like normal kids but there was a bit of uh kind of like ship on their shoulders it was embarrassing actually to come back to school it was uh not seen as a badge of honor to drop out of school and then and when I asked them what they wanted to do next it's like oh I just want to finish school and then once I finish I'll figure out another startup the failure of the crypto startups gave all startups a bad name rather than just like crypto scams which is the actual problem because they didn't want to work at a startup anymore afterwards some of them they were like there were like oh I I don't know yet I think the there's like another undercurrent behind all of this because it can be very jaring you have this kind of very bipolar experience from going to the top you're like getting investors to throw money of you you have this an non Twitter account that has like hundred of thousands of followers doing you bought your board ape yeah you got the all the board Apes a collection of them and you're running this like giant exchange and then things just crash you get sued by the government that could be another case and then what's your plan B and then you come back down hit ground floor so deep and it can be very demotivating the government stuff you mentioned is actually for on a very crypto specific topic is a huge thing where like the US has chosen this regulatory regulation by enforcement approach which is just incredibly scary if you want to do anything interesting in crypto is this casting a chilling effect because people are worried that if they're successful they could literally go to jail y exactly that I mean Diana and I have a company that we just worked with in this batch where the founders had previously they Young Smart technical Founders who had previously started a crypto exchange and were sued by the government and they are clearly still like traumatized by that experience right so I think it's a real shame because in a way this is like a great time actually to work on a crypto idea because at a high level it's like hey programmable money and now we've got like AI agents that can like do lots of things autonomously and the tourists are gone yeah right like this is actually a great time but I think in the US at least until it feels safer to build these companies it's going to be hard for crypto to recapture that imagination but like I still think by far away the big reason is just AI is like the exciting thing to work on which actually I do see uh I know it's a bit of a meme of uh former crypto Founders going into AI my hope is actually that for a lot of these crypto Founders that went through this ride that they kind of get back up on their feet and get back to building because it's actually fun I think the sad thing is some of them really got defeated and my hope is that they get that optimism back again because that's the thing that as a found if you lose it it's like game over but they're definitely back we were talking about this right where it just it feels like we come across more applic we talking about this on our part we funded a record number of MIT grads in the last batch the most YC has ever funded so it cast a chilling effect for a year but it's and in particular now when we talk to Young Founders and I think this is why the median age of the batch went down slightly right the median age was around 30 four years ago four years ago and now it's like 26 and I think I'm just seeing more people being willing to drop out of college and often what we say to them is hey like there's no rush like you should just like graduate college why you have to start a startup right now and the response is well like this might be like a once in a lifetime opportunity and I think for the first time I'm like you might be right you're right the reason this time is different as it relates to this sort of AI oh no you said the magic words yeah I said I think but it actually is different I think um like crypto has always suffered from a couple of problems one is that it's always been very hard to explain the products right like they tend to be very complicated and not use user friendly and so it's just hard to explain like what what even does the crypto thing do because it tends to be some sort of complicated lending thing that only other crypto people understand and the second is that it's always been hard to understand like where the money comes from it can be the sort of bantine complex thing trying to figure out like like feel like Monopoly money yeah basically right that's always been the criticism it's always felt like these things weren't real often but like this time around I think working in this batch with so many AI companies it's felt very real the products are were very tangible there was a cool experiment we ran with harsh in this batch we ran product day where we had all of our companies come and do a demo run through of the product on stage other product yeah running and a lot of the products were beautiful I was very impressed with the progress they made from the time they applied to what they had because one of the stats is um in this batch over 80% of the badge had no Revenue basically the product was unlaunched before they came in versus uh in Winter 20 about only 62% so we funded even earlier and in the span of just a month is these products were like pretty impressive right yeah I mean I remember that when we did product day just some of the moment it was just felt like constant wow moment after wow moment like someone would demo like one of the companies fume demoed like their AI software engineer and their demo was literally hey like you can basically tell this AI software engineer to implement dark mode on this website and they showed like a website just regular layout and like fume engineer goes and implements like in CSS and everything like the dark mode and then you go back to the website and there's a toggle to turn dark mode on and it's just like wow like you could see it writing the code and doing all of this stuff and it was like you could tell this is something that's very real and there's another thing that we did that like returned YC to focus on products do do you want to talk about the Bookface launch live events that you started this batch yeah during the batch I really felt like well these demos are so cool I'm totally going to steal your idea for this next batch where you know I definitely I I think that we should do this type of demos uh across the whole batch and then uh I also did Friday every other Friday we would pick the people who had the most impressive Launches on our internal social network and we'd have them actually demo exactly what they built in front of a live audience yeah and then I would actually ask very detailed implementation questions because literally a lot of these things it's the first time you've ever been able to do like that demo for instance and being able to understand well what did you do like how did you use uh retrieval augmented generation to do that like what were the prompts what was the workflow you know how do you test that kind of stuff like going back to the dev tool argument like we're literally trying to figure out how these things work and then there's going to be a whole new reset in even a matter of months with GPT 5 and the Next Generation like this is a very Homebrew Computer Club type stuff like we just suddenly had this thing that could happen and next week some other crazy things going to happen I love that because it really felt to me like a return to the YC that I did in 20062 2007 the focus of YC was really about the prodcts because we were inventing new things that you could do with software and then in the decade afterward it because there was so many software enabled businesses and the technology became commoditized there was less focus on the product and more on growth and sales I hadn't thought that you know what just sprung into my mind as you're saying that is 2007 when I first moved to San Francisco from London um in my YC batch in Winter 2007 were Weebly and zenta um and they were pushing the limits of what you could do with JavaScript so we was a website builder and zenta which would get acquired by Google was like a web PowerPoint that was cutting Ed stuff yeah seriously it was really felt like every week I remember you would come to YC dinner and you would go and check out what the Weebly and zenta teams had done the previous week and you'd be like wow like you can like create like a slide you can create a slide with an animation in the browser like it's crazy and even works an Internet Explorer that's insane yeah that was the thing that you can do this across all browsers and it felt like yeah I hadn't thought about it until you said Jared but yeah that was so much of the energy was you felt like you were around people really inventing stuff it actually that team those two Founders and basically kickstarted all of the Google Doc Suite like doc doc sheets and then when you think about it back then in 2007 it wasn't clear that you could replace Microsoft Office with like a bunch of applications in the web that would have sounded insane I think the other thing I remember doing the Bookface live demo I think that feeling was there I remember seeing the demo of retail AI so they were building this voice AI agents and during the demo they did a call to the AI agent and they pretty much passed the touring test that's pretty amazing you would have you would have conversations with it and that's the moment where I think it was just so fun to be alive now and working on this and it's turning into like real businesses again the crypto analogy a lot of the criticisms were a lot of the products were promising like high yield risk-free high yield products and we would take like a spread on the yield again very complicated to understand where the money zero SU basically but like or it was like it was the promise of future usage it was like someday when everybody switched to like a decentralized Airbnb it'll be really big yeah but no one's actually using it to rent apartments yeah but in this batch we're seeing companies add like this AI boom companies are adding like real recurring Revenue by selling software to legit businesses right I mean I think we looked up some the DEA and we actually measure it right yeah so I pulled the numbers on this 80% of the batch came in with no Revenue and the majority had not launched any product at all they didn't have any users if you look at the start of the batch in January the total batch all the batch companies together if you add up their total revenue they were making 6 million ARR across like almost 300 companies companies yeah so like the AR of the batch which is kind of like a funny concept I don't think we'd ever really thought about the AR of a batch before metric but like the ARR of the batch was like 6 million in January and by demo day in April it was 20 million so the batch 3x ARR in 3 months which is pretty cool that's a great growth rate yeah you think of all the economic growth that got produced it's kind of think of these companies as they keep growing and compounding and accelerating a lot of this growth which is new is definitely not Zero Sum it's this whole world of creating a bigger and bigger pie or like a new Matrix or new maze right and I think what's getting people really excited about the future of AI in particular is this is not just taking money away from existing software budget so much of this work is replacing labor and so you open up to like labor budgets and so I think like all of that has just fed into this General if we just like go off The Vibes this batch has felt like it's like being like the best one yet like there more specifically it feels like there's more energy around this batch than there has been for as long as I can remember for any YC batch what do you think's happening and one time that I felt that really viscerally was it the in-person investor reception which Gary created new for this batch do you want to talk about about it Gary well so demo day is still perfectly online and it works great but one of the things we really wanted to do was thank some of the best people who have funded YC companies all these years and it was right here in our San Francisco HQ it was three whole floors of some of the smartest investors in the world with uh our batch companies just hanging out and The Vibes were immaculate it felt to me like at the reception talking to investors that there was a real reset on preconceived what's a good idea and a bad idea people were just renewed sense of optimism and it felt like everything's up for grabs I worked with a company called octane which got lots of investor interest and what they're doing is AI sales for it's Salesforce rebuilt if in the AI world and I just think investors did not want to fund Salesforce competitors for a long time because they just felt like like how are you going to compete with Salesforce but now with AI it's like oh like we totally funded Salesforce Peter because it seems possible that you could actually win against Salesforce now there's a platform shift and this is the moment where every single SAS Dollar in the world uh it's up for grabs again it's an exciting time Founders are more excited to build than ever investors are more excited to invest than ever and we're just like right at the center of it all here at YC it's awesome it's a fun time to build it's the best time ever I mean as a as a builder is like the technology just does such a different thing than what you expected before I think this is why you have the earnest Founders that love building coming back and doing this so do we think that this batch was pki what's in store for the next batch I mean it feels like because we talked so much about all the progress on the current batch it seems like it's like done and all the good ideas are done I actually think the opposite because this batch was the one where we had the most pivots to 30% of the batch pivoted and landed in good ideas versus in 4 years years ago only about 10% of the batch pivoted so that's one very fast defined ideas there's still tons of them that are good and if we go back to the analogy with how history kind of remixes and repeats a bit is I think of this time more like Facebook is still getting created in the dorm rooms so if you all want to be the next big AI company this is the time if we talk about what we were saying earlier Jared like if now is sort of the equivalent of 2007 when it felt like web Technologies were being pushed forward for the first time it was actually still like 3 years until Airbnb was started 5 years until door Dash was started six years until coinbase was started these Trends always play out much longer than people think they're going to so in summary we are just getting started that's all the time we have for today but why combinator is actually accepting applications for this summer so if you're thinking about it those questions will help you shake out is this the time do I have have the co-founder do I have the idea and at the end of the day now is the moment to start so we hope we'll see you this summer and we'll see you next time [Music]\""
      ]
     },
     "execution_count": 8,
     "metadata": {},
     "output_type": "execute_result"
    }
   ],
   "source": [
    "transcript_text"
   ]
  },
  {
   "cell_type": "code",
   "execution_count": 9,
   "metadata": {},
   "outputs": [
    {
     "data": {
      "text/plain": [
       "[{'text': \"it feels like there's more energy around\",\n",
       "  'start': 0.04,\n",
       "  'duration': 3.76},\n",
       " {'text': 'this batch than there has been for as',\n",
       "  'start': 1.64,\n",
       "  'duration': 4.239},\n",
       " {'text': 'long as I can remember for any YC batch',\n",
       "  'start': 3.8,\n",
       "  'duration': 3.639},\n",
       " {'text': \"like what do you think's happening\",\n",
       "  'start': 5.879,\n",
       "  'duration': 3.561},\n",
       " {'text': \"there's a platform shift and this is the\",\n",
       "  'start': 7.439,\n",
       "  'duration': 5.801}]"
      ]
     },
     "execution_count": 9,
     "metadata": {},
     "output_type": "execute_result"
    }
   ],
   "source": [
    "transcript[:5]"
   ]
  },
  {
   "cell_type": "code",
   "execution_count": 28,
   "metadata": {},
   "outputs": [],
   "source": [
    "transcript_chunks = [[]]\n",
    "index = 0\n",
    "current_time = 0\n",
    "max_time_allowed = 60  # seconds\n",
    "while index < len(transcript):\n",
    "    content = transcript[index]\n",
    "    duration = content.get(\"duration\")\n",
    "    if current_time + duration > 60:\n",
    "        transcript_chunks += [[]]\n",
    "        current_time = 0\n",
    "    #     transcript_chunks.append([content])\n",
    "    # else:\n",
    "\n",
    "    transcript_chunks[-1] += [content]\n",
    "    current_time += duration\n",
    "    index += 1"
   ]
  },
  {
   "cell_type": "code",
   "execution_count": 29,
   "metadata": {},
   "outputs": [
    {
     "data": {
      "text/plain": [
       "89"
      ]
     },
     "execution_count": 29,
     "metadata": {},
     "output_type": "execute_result"
    }
   ],
   "source": [
    "len(transcript_chunks)"
   ]
  },
  {
   "cell_type": "code",
   "execution_count": 30,
   "metadata": {},
   "outputs": [
    {
     "data": {
      "text/plain": [
       "1140"
      ]
     },
     "execution_count": 30,
     "metadata": {},
     "output_type": "execute_result"
    }
   ],
   "source": [
    "len(transcript)"
   ]
  },
  {
   "cell_type": "code",
   "execution_count": 31,
   "metadata": {},
   "outputs": [
    {
     "data": {
      "text/plain": [
       "[[{'text': \"it feels like there's more energy around\",\n",
       "   'start': 0.04,\n",
       "   'duration': 3.76},\n",
       "  {'text': 'this batch than there has been for as',\n",
       "   'start': 1.64,\n",
       "   'duration': 4.239},\n",
       "  {'text': 'long as I can remember for any YC batch',\n",
       "   'start': 3.8,\n",
       "   'duration': 3.639},\n",
       "  {'text': \"like what do you think's happening\",\n",
       "   'start': 5.879,\n",
       "   'duration': 3.561},\n",
       "  {'text': \"there's a platform shift and this is the\",\n",
       "   'start': 7.439,\n",
       "   'duration': 5.801},\n",
       "  {'text': 'moment where every single SAS Dollar in',\n",
       "   'start': 9.44,\n",
       "   'duration': 6.279},\n",
       "  {'text': \"the world uh it's up for grabs Again The\",\n",
       "   'start': 13.24,\n",
       "   'duration': 5.959},\n",
       "  {'text': 'Bouch 3x ARR in 3 months which is pretty',\n",
       "   'start': 15.719,\n",
       "   'duration': 5.8},\n",
       "  {'text': \"cool that's a great growth rate yeah\",\n",
       "   'start': 19.199,\n",
       "   'duration': 4.121},\n",
       "  {'text': \"it's a fun time to build it's the best\",\n",
       "   'start': 21.519,\n",
       "   'duration': 3.76},\n",
       "  {'text': \"time ever I mean as a as a builder it's\",\n",
       "   'start': 23.32,\n",
       "   'duration': 4.199},\n",
       "  {'text': 'like the technology just does such a',\n",
       "   'start': 25.279,\n",
       "   'duration': 3.641},\n",
       "  {'text': 'different thing than what you expected',\n",
       "   'start': 27.519,\n",
       "   'duration': 4.401}],\n",
       " [{'text': 'before', 'start': 28.92, 'duration': 3.0},\n",
       "  {'text': '[Music]', 'start': 33.78, 'duration': 3.24},\n",
       "  {'text': 'welcome back to another episode of the',\n",
       "   'start': 37.16,\n",
       "   'duration': 5.36},\n",
       "  {'text': 'light cone we are for group Partners at',\n",
       "   'start': 39.6,\n",
       "   'duration': 5.24},\n",
       "  {'text': 'Y combinator and we funded hundreds of',\n",
       "   'start': 42.52,\n",
       "   'duration': 5.08},\n",
       "  {'text': 'companies many dozens of which have gone',\n",
       "   'start': 44.84,\n",
       "   'duration': 5.879},\n",
       "  {'text': \"on to become unicorns this is Jared I'm\",\n",
       "   'start': 47.6,\n",
       "   'duration': 6.479},\n",
       "  {'text': 'Gary this is Harge and this is Diana we',\n",
       "   'start': 50.719,\n",
       "   'duration': 6.52},\n",
       "  {'text': 'just finished the winter 2024 batch of Y',\n",
       "   'start': 54.079,\n",
       "   'duration': 6.401},\n",
       "  {'text': 'combinator and it feels really really',\n",
       "   'start': 57.239,\n",
       "   'duration': 5.681},\n",
       "  {'text': \"different doesn't it it does let's talk\",\n",
       "   'start': 60.48,\n",
       "   'duration': 4.999}],\n",
       " [{'text': 'about how this batch is so different',\n",
       "   'start': 62.92,\n",
       "   'duration': 4.0},\n",
       "  {'text': 'from the batches that we funded in the',\n",
       "   'start': 65.479,\n",
       "   'duration': 3.561},\n",
       "  {'text': 'past some of it is you actually need to',\n",
       "   'start': 66.92,\n",
       "   'duration': 4.559},\n",
       "  {'text': \"know where we've been and where we are\",\n",
       "   'start': 69.04,\n",
       "   'duration': 4.84},\n",
       "  {'text': 'right now in order to actually figure',\n",
       "   'start': 71.479,\n",
       "   'duration': 3.921},\n",
       "  {'text': \"out where we're going to go and a lot of\",\n",
       "   'start': 73.88,\n",
       "   'duration': 3.559},\n",
       "  {'text': 'people watching right now are trying to',\n",
       "   'start': 75.4,\n",
       "   'duration': 4.84},\n",
       "  {'text': 'figure it out like how do I go to where',\n",
       "   'start': 77.439,\n",
       "   'duration': 5.121},\n",
       "  {'text': 'the hockey puck is going how do I get',\n",
       "   'start': 80.24,\n",
       "   'duration': 4.28},\n",
       "  {'text': 'there before everyone else the best way',\n",
       "   'start': 82.56,\n",
       "   'duration': 3.84},\n",
       "  {'text': 'to figure that out is what happened in',\n",
       "   'start': 84.52,\n",
       "   'duration': 3.52},\n",
       "  {'text': \"this batch we're going to connect the\",\n",
       "   'start': 86.4,\n",
       "   'duration': 3.84},\n",
       "  {'text': \"dots with actual numbers that I don't\",\n",
       "   'start': 88.04,\n",
       "   'duration': 5.28}],\n",
       " [{'text': 'think we ever shared before by stats of',\n",
       "   'start': 90.24,\n",
       "   'duration': 6.64},\n",
       "  {'text': 'batches from four years ago and contrast',\n",
       "   'start': 93.32,\n",
       "   'duration': 6.32},\n",
       "  {'text': 'them with the numbers for this patch so',\n",
       "   'start': 96.88,\n",
       "   'duration': 4.68},\n",
       "  {'text': 'you can see the actual Trends the way',\n",
       "   'start': 99.64,\n",
       "   'duration': 3.519},\n",
       "  {'text': \"they're playing out here in the center\",\n",
       "   'start': 101.56,\n",
       "   'duration': 3.48},\n",
       "  {'text': \"of silon Valley yeah I'm curious like\",\n",
       "   'start': 103.159,\n",
       "   'duration': 3.441},\n",
       "  {'text': \"what are some of the trends that we've\",\n",
       "   'start': 105.04,\n",
       "   'duration': 3.96},\n",
       "  {'text': \"seen what's made this last winter 24\",\n",
       "   'start': 106.6,\n",
       "   'duration': 5.72},\n",
       "  {'text': 'batch different to previous batches well',\n",
       "   'start': 109.0,\n",
       "   'duration': 4.439},\n",
       "  {'text': 'the strongest Trend the one that',\n",
       "   'start': 112.32,\n",
       "   'duration': 3.799},\n",
       "  {'text': \"everyone is writing about is AI that's\",\n",
       "   'start': 113.439,\n",
       "   'duration': 4.881},\n",
       "  {'text': 'definitely like the big Mega Trend in',\n",
       "   'start': 116.119,\n",
       "   'duration': 4.36},\n",
       "  {'text': 'the past year yeah I was surprised',\n",
       "   'start': 118.32,\n",
       "   'duration': 3.079}]]"
      ]
     },
     "execution_count": 31,
     "metadata": {},
     "output_type": "execute_result"
    }
   ],
   "source": [
    "transcript_chunks[:4]"
   ]
  },
  {
   "cell_type": "code",
   "execution_count": 36,
   "metadata": {},
   "outputs": [],
   "source": [
    "from typing import List\n",
    "import requests\n",
    "\n",
    "\n",
    "def generateEmbedding(contents: List[str]):\n",
    "    response = requests.post(\"http://localhost:8000/v1/embeddings\",\n",
    "                             json={\"input\": contents})\n",
    "    response = response.json()\n",
    "    data = response.get(\"data\")\n",
    "    embeddings = list(map(lambda embed: embed.get(\"embedding\"), data))\n",
    "    return embeddings"
   ]
  },
  {
   "cell_type": "code",
   "execution_count": 37,
   "metadata": {},
   "outputs": [],
   "source": [
    "_embs = generateEmbedding(list(map(lambda c: c.get(\"text\"), transcript_chunks[0])))"
   ]
  },
  {
   "cell_type": "code",
   "execution_count": 43,
   "metadata": {},
   "outputs": [
    {
     "data": {
      "text/plain": [
       "13"
      ]
     },
     "execution_count": 43,
     "metadata": {},
     "output_type": "execute_result"
    }
   ],
   "source": [
    "len(transcript_chunks[0])"
   ]
  },
  {
   "cell_type": "code",
   "execution_count": 38,
   "metadata": {},
   "outputs": [
    {
     "data": {
      "text/plain": [
       "13"
      ]
     },
     "execution_count": 38,
     "metadata": {},
     "output_type": "execute_result"
    }
   ],
   "source": [
    "len(_embs)"
   ]
  },
  {
   "cell_type": "code",
   "execution_count": 39,
   "metadata": {},
   "outputs": [
    {
     "data": {
      "text/plain": [
       "10"
      ]
     },
     "execution_count": 39,
     "metadata": {},
     "output_type": "execute_result"
    }
   ],
   "source": [
    "len(_embs[0])"
   ]
  },
  {
   "cell_type": "code",
   "execution_count": 41,
   "metadata": {},
   "outputs": [],
   "source": [
    "import numpy as np"
   ]
  },
  {
   "cell_type": "code",
   "execution_count": 52,
   "metadata": {},
   "outputs": [
    {
     "data": {
      "text/plain": [
       "[(10, 3072),\n",
       " (9, 3072),\n",
       " (11, 3072),\n",
       " (9, 3072),\n",
       " (11, 3072),\n",
       " (10, 3072),\n",
       " (14, 3072),\n",
       " (15, 3072),\n",
       " (10, 3072),\n",
       " (14, 3072),\n",
       " (13, 3072),\n",
       " (8, 3072),\n",
       " (7, 3072)]"
      ]
     },
     "execution_count": 52,
     "metadata": {},
     "output_type": "execute_result"
    }
   ],
   "source": [
    "[np.array(_e).shape for _e in _embs]"
   ]
  },
  {
   "cell_type": "code",
   "execution_count": 44,
   "metadata": {},
   "outputs": [
    {
     "data": {
      "text/plain": [
       "13"
      ]
     },
     "execution_count": 44,
     "metadata": {},
     "output_type": "execute_result"
    }
   ],
   "source": [
    "len(_embs)"
   ]
  },
  {
   "cell_type": "code",
   "execution_count": 51,
   "metadata": {},
   "outputs": [
    {
     "ename": "ValueError",
     "evalue": "setting an array element with a sequence. The requested array has an inhomogeneous shape after 1 dimensions. The detected shape was (13,) + inhomogeneous part.",
     "output_type": "error",
     "traceback": [
      "\u001b[0;31m---------------------------------------------------------------------------\u001b[0m",
      "\u001b[0;31mValueError\u001b[0m                                Traceback (most recent call last)",
      "Cell \u001b[0;32mIn[51], line 1\u001b[0m\n\u001b[0;32m----> 1\u001b[0m \u001b[43mnp\u001b[49m\u001b[38;5;241;43m.\u001b[39;49m\u001b[43masarray\u001b[49m\u001b[43m(\u001b[49m\u001b[43m_embs\u001b[49m\u001b[43m)\u001b[49m\n",
      "\u001b[0;31mValueError\u001b[0m: setting an array element with a sequence. The requested array has an inhomogeneous shape after 1 dimensions. The detected shape was (13,) + inhomogeneous part."
     ]
    }
   ],
   "source": [
    "np.asarray(_embs)"
   ]
  },
  {
   "cell_type": "code",
   "execution_count": null,
   "metadata": {},
   "outputs": [],
   "source": []
  }
 ],
 "metadata": {
  "kernelspec": {
   "display_name": "claudetools",
   "language": "python",
   "name": "python3"
  },
  "language_info": {
   "codemirror_mode": {
    "name": "ipython",
    "version": 3
   },
   "file_extension": ".py",
   "mimetype": "text/x-python",
   "name": "python",
   "nbconvert_exporter": "python",
   "pygments_lexer": "ipython3",
   "version": "3.11.8"
  }
 },
 "nbformat": 4,
 "nbformat_minor": 2
}
